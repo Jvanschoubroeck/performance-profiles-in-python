{
 "cells": [
  {
   "cell_type": "markdown",
   "metadata": {},
   "source": [
    "This file contains all information required to generate the examples as described in the README."
   ]
  },
  {
   "cell_type": "code",
   "execution_count": null,
   "metadata": {
    "collapsed": false
   },
   "outputs": [],
   "source": [
    "import numpy as np\n",
    "import pandas as pd\n",
    "import optperfprofpy\n",
    "import matplotlib.pyplot as plt\n",
    "\n",
    "%matplotlib notebook"
   ]
  },
  {
   "cell_type": "markdown",
   "metadata": {},
   "source": [
    "# Simple example"
   ]
  },
  {
   "cell_type": "code",
   "execution_count": null,
   "metadata": {
    "collapsed": false
   },
   "outputs": [],
   "source": [
    "# Generating the dataframe for the first example\n",
    "problems = pd.Series([1, 1, 2, 2, 3, 3], dtype=int, name='problem')\n",
    "methods = pd.Series(['A', 'B', 'A', 'B', 'A', 'B'], dtype=str, name='method')\n",
    "objective_vals = pd.Series([2, 20, 25, 5, 30, 4], dtype=float, name='obj')\n",
    "example_1_df = pd.DataFrame([problems, methods, objective_vals]).T\n",
    "example_1_df"
   ]
  },
  {
   "cell_type": "code",
   "execution_count": null,
   "metadata": {
    "collapsed": false
   },
   "outputs": [],
   "source": [
    "# Calculating the performance profile\n",
    "taus, solver_vals, solvers, transformed_data = optperfprofpy.calc_perprof(example_1_df, \n",
    "                                                                         ['problem'], \n",
    "                                                                         ['obj'], \n",
    "                                                                         ['method'])"
   ]
  },
  {
   "cell_type": "code",
   "execution_count": null,
   "metadata": {
    "collapsed": false
   },
   "outputs": [],
   "source": [
    "optperfprofpy.draw_simple_pp(taus, solver_vals, solvers)"
   ]
  },
  {
   "cell_type": "markdown",
   "metadata": {},
   "source": [
    "# More extensive example\n",
    "In this example the problems that are not feasible are penalized."
   ]
  },
  {
   "cell_type": "code",
   "execution_count": null,
   "metadata": {
    "collapsed": true
   },
   "outputs": [],
   "source": [
    "variable_1 = pd.Series([1, 1, 1, 1, 2, 2, 2, 2, 3, 3, 3, 3], dtype=float, name='var_1')\n",
    "variable_2 = pd.Series([1, 1, 2, 2, 1, 1, 2, 2, 1, 1, 2, 2,], dtype=float, name='var_2')\n",
    "methods = pd.Series(['A', 'B', 'A', 'B', 'A', 'B', 'A', 'B', 'A', 'B', 'A', 'B'], dtype=str, name='method')\n",
    "objective_vals = pd.Series([-2, -1, 2, 20, 25, 5, 17, 6, 30, 4, 2, 1], dtype=float, name='obj')\n",
    "example_df = pd.DataFrame([variable_1, variable_2, methods, objective_vals]).T\n",
    "example_df['feas'] = True"
   ]
  },
  {
   "cell_type": "code",
   "execution_count": null,
   "metadata": {
    "collapsed": false
   },
   "outputs": [],
   "source": [
    "# Testing with \n",
    "calc_perprof(example_df, ['var_1', 'var_2'], ['obj'], ['method'])"
   ]
  },
  {
   "cell_type": "code",
   "execution_count": null,
   "metadata": {
    "collapsed": false
   },
   "outputs": [],
   "source": [
    "problems = pd.Series([1, 1, 2, 2, 3, 3], dtype=int, name='problem')\n",
    "methods = pd.Series(['A', 'B', 'A', 'B', 'A', 'B'], dtype=str, name='method')\n",
    "objective_vals = pd.Series([2, 20, 25, 5, 30, 4], dtype=float, name='obj')\n",
    "example_1_df = pd.DataFrame([problems, methods, objective_vals]).T\n",
    "\n",
    "calc_perprof(example_1_df, ['problem'], ['obj'], ['method'])"
   ]
  },
  {
   "cell_type": "markdown",
   "metadata": {
    "collapsed": true
   },
   "source": [
    "# The true power: extensive example"
   ]
  },
  {
   "cell_type": "code",
   "execution_count": null,
   "metadata": {
    "collapsed": false
   },
   "outputs": [],
   "source": [
    "shrt = pd.read_pickle('Example dataframes/extensive_df')"
   ]
  },
  {
   "cell_type": "code",
   "execution_count": null,
   "metadata": {
    "collapsed": false
   },
   "outputs": [],
   "source": [
    "prob_def = ['var_1', 'var_2', 'var_3']\n",
    "perf_meas = ['obj']\n",
    "solver_char = ['solv_var_1', 'solv_var_2']\n",
    "\n",
    "taus, solver_vals, solvers, transformed_data = optperfprofpy.calc_perprof(shrt, prob_def, perf_meas, solver_char)"
   ]
  },
  {
   "cell_type": "code",
   "execution_count": null,
   "metadata": {
    "collapsed": false
   },
   "outputs": [],
   "source": [
    "optperfprofpy.draw_simple_pp(taus, solver_vals, solvers)"
   ]
  }
 ],
 "metadata": {
  "kernelspec": {
   "display_name": "Python [default]",
   "language": "python",
   "name": "python3"
  },
  "language_info": {
   "codemirror_mode": {
    "name": "ipython",
    "version": 3
   },
   "file_extension": ".py",
   "mimetype": "text/x-python",
   "name": "python",
   "nbconvert_exporter": "python",
   "pygments_lexer": "ipython3",
   "version": "3.5.2"
  }
 },
 "nbformat": 4,
 "nbformat_minor": 2
}
